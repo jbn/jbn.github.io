{
 "cells": [
  {
   "cell_type": "code",
   "execution_count": 1,
   "metadata": {
    "tags": [
     "private"
    ]
   },
   "outputs": [],
   "source": [
    "%run -i ../helpers.py"
   ]
  },
  {
   "cell_type": "markdown",
   "metadata": {},
   "source": [
    "The pages in this directory portray different aspects of how I think belief system expression and discovery works. The name belief geometry is a play on [sacred geometry](https://en.wikipedia.org/wiki/Sacred_geometry) which \"ascribes symbolic and sacred meanings to certain geometric shapes and certain geometric proportions.\" But, what I've written here is profane, at least with respect to the religion of heroic individualism. The central premise is that social cognition binds and rules far more of our lives than we're comfortable admitting, let alone capable of observing easily. Yet — as if I were talking about sacred geometry — I don't want what I've written mistaken for formal models, rigorous research, or a direct translation of what academic scholarship on belief systems or social cognition knows. Instead, they're just useful stories —  tools for thinking about belief systems."
   ]
  },
  {
   "cell_type": "code",
   "execution_count": 2,
   "metadata": {},
   "outputs": [
    {
     "data": {
      "text/markdown": [
       "## Pages\n",
       "\n",
       "- [Opinion Differencing](opinion_differencing.html) Or, Misdirection on an Imaginary Line\n",
       "\n"
      ],
      "text/plain": [
       "<IPython.core.display.Markdown object>"
      ]
     },
     "execution_count": 2,
     "metadata": {},
     "output_type": "execute_result"
    }
   ],
   "source": [
    "list_dir()"
   ]
  },
  {
   "cell_type": "code",
   "execution_count": null,
   "metadata": {},
   "outputs": [],
   "source": []
  },
  {
   "cell_type": "code",
   "execution_count": null,
   "metadata": {},
   "outputs": [],
   "source": []
  }
 ],
 "metadata": {
  "kernelspec": {
   "display_name": "Python 3",
   "language": "python",
   "name": "python3"
  },
  "language_info": {
   "codemirror_mode": {
    "name": "ipython",
    "version": 3
   },
   "file_extension": ".py",
   "mimetype": "text/x-python",
   "name": "python",
   "nbconvert_exporter": "python",
   "pygments_lexer": "ipython3",
   "version": "3.6.5"
  },
  "www": {
   "abstract": "Sketches of belief systems.",
   "subtitle": "Sketches of belief systems.",
   "title": "Belief Geometry"
  }
 },
 "nbformat": 4,
 "nbformat_minor": 2
}
