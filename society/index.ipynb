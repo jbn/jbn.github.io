{
 "cells": [
  {
   "cell_type": "code",
   "execution_count": 1,
   "metadata": {
    "tags": [
     "setup"
    ]
   },
   "outputs": [],
   "source": [
    "%run -i ../helpers.py"
   ]
  },
  {
   "cell_type": "code",
   "execution_count": 2,
   "metadata": {},
   "outputs": [
    {
     "data": {
      "text/markdown": [
       "## Pages\n",
       "\n",
       "- [Ayn Rand Seduced Me!](ayn_rand_seduced_me.html)  Ahhhhhhhhhhhhhhhhhhh!\n",
       "\n",
       "- [Skynet Was Here](skynet_was_here.html) Or, Contemporary Life Under Inhuman Super-Intelligence\n",
       "\n"
      ],
      "text/plain": [
       "<IPython.core.display.Markdown object>"
      ]
     },
     "execution_count": 2,
     "metadata": {},
     "output_type": "execute_result"
    }
   ],
   "source": [
    "list_dir()"
   ]
  },
  {
   "cell_type": "code",
   "execution_count": null,
   "metadata": {},
   "outputs": [],
   "source": []
  }
 ],
 "metadata": {
  "kernelspec": {
   "display_name": "Python 3",
   "language": "python",
   "name": "python3"
  },
  "language_info": {
   "codemirror_mode": {
    "name": "ipython",
    "version": 3
   },
   "file_extension": ".py",
   "mimetype": "text/x-python",
   "name": "python",
   "nbconvert_exporter": "python",
   "pygments_lexer": "ipython3",
   "version": "3.6.5"
  },
  "www": {
   "abstract": "Random ideas and thoughts about society.",
   "subtitle": "Random ideas and thoughts about society.",
   "title": "Society"
  }
 },
 "nbformat": 4,
 "nbformat_minor": 2
}
